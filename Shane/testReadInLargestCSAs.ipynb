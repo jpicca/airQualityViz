{
 "cells": [
  {
   "cell_type": "code",
   "execution_count": 2,
   "metadata": {},
   "outputs": [],
   "source": [
    "from largest_combined_statistical_areas import largest_combined_statistical_areas"
   ]
  },
  {
   "cell_type": "code",
   "execution_count": 3,
   "metadata": {},
   "outputs": [
    {
     "data": {
      "text/plain": [
       "{'rank': 1,\n",
       " 'name': 'New York City',\n",
       " 'csa_name': 'New York-Newark, NY-NJ-CT-PA Combined Statistical Area',\n",
       " 'state': 'NY',\n",
       " 'capital': 'no',\n",
       " 'capital_of': 'n/a',\n",
       " 'population': {'2018_estimate': 22679948, '2010_census': 22255491},\n",
       " 'location': {'lat': 40.7128, 'long': -74.006, 'zip_code': 10001}}"
      ]
     },
     "execution_count": 3,
     "metadata": {},
     "output_type": "execute_result"
    }
   ],
   "source": [
    "largest_combined_statistical_areas[0]"
   ]
  },
  {
   "cell_type": "code",
   "execution_count": 4,
   "metadata": {},
   "outputs": [
    {
     "name": "stdout",
     "output_type": "stream",
     "text": [
      "New York City\n",
      "22679948\n",
      "Los Angeles\n",
      "18764814\n",
      "Chicago\n",
      "9866910\n",
      "Washington\n",
      "9778360\n",
      "San Francisco\n",
      "9666055\n",
      "Boston\n",
      "8285407\n",
      "Dallas\n",
      "7957493\n",
      "Philadelphia\n",
      "7204035\n",
      "Houston-The Woodlands, TX Combined Statistical Area\n",
      "7197883\n",
      "Miami\n",
      "6913262\n"
     ]
    }
   ],
   "source": [
    "for i in largest_combined_statistical_areas:\n",
    "#     print(i)\n",
    "    print(i[\"name\"])\n",
    "    print(i[\"population\"][\"2018_estimate\"])"
   ]
  },
  {
   "cell_type": "code",
   "execution_count": null,
   "metadata": {},
   "outputs": [],
   "source": []
  }
 ],
 "metadata": {
  "kernelspec": {
   "display_name": "Python 3",
   "language": "python",
   "name": "python3"
  },
  "language_info": {
   "codemirror_mode": {
    "name": "ipython",
    "version": 3
   },
   "file_extension": ".py",
   "mimetype": "text/x-python",
   "name": "python",
   "nbconvert_exporter": "python",
   "pygments_lexer": "ipython3",
   "version": "3.7.4"
  }
 },
 "nbformat": 4,
 "nbformat_minor": 4
}
