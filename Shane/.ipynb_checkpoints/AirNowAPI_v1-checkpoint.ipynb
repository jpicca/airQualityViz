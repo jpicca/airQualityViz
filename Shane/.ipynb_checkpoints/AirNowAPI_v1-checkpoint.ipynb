{
 "cells": [
  {
   "cell_type": "code",
   "execution_count": null,
   "metadata": {},
   "outputs": [],
   "source": []
  },
  {
   "cell_type": "markdown",
   "metadata": {},
   "source": [
    "#### Import Dependencies & needed API Keys"
   ]
  },
  {
   "cell_type": "code",
   "execution_count": 85,
   "metadata": {},
   "outputs": [],
   "source": [
    "import pandas as pd\n",
    "import requests as rq\n",
    "\n",
    "# import os\n",
    "# import sys\n",
    "import datetime\n",
    "# from datetime import datetime\n",
    "# from os.path import expanduser\n",
    "\n",
    "from config import airNowApiKeyShane, airNowApiKeyAudelia, airNowApiKeyCenez, airNowApiKeyJoseph, airNowApiKeyJoey\n",
    "from largest_combined_statistical_areas import largest_combined_statistical_areas"
   ]
  },
  {
   "cell_type": "code",
   "execution_count": 2,
   "metadata": {},
   "outputs": [],
   "source": [
    "# Get data for: first 7 days of each month; 5 years (2015 through 2019); top 10 cities;\n",
    "# use counter to use different API keys (500 per hour)"
   ]
  },
  {
   "cell_type": "markdown",
   "metadata": {},
   "source": [
    "#### Set output CSV data file filepath variable"
   ]
  },
  {
   "cell_type": "code",
   "execution_count": 3,
   "metadata": {},
   "outputs": [],
   "source": [
    "output_data_filepath = \"output_data/\""
   ]
  },
  {
   "cell_type": "markdown",
   "metadata": {},
   "source": [
    "#### Setup counters and empty list and dict to hold data"
   ]
  },
  {
   "cell_type": "code",
   "execution_count": 12,
   "metadata": {},
   "outputs": [],
   "source": [
    "# Setup Counters\n",
    "attemptCounter = 1\n",
    "recordSetCounter = 1\n",
    "recordCounter= 1\n",
    "\n",
    "# Setup empty \n",
    "dataList = []\n",
    "dataDict = {}"
   ]
  },
  {
   "cell_type": "markdown",
   "metadata": {},
   "source": [
    "#### Create a list of dates to iterate through (first 7 days of each month, 2015 to 2019)"
   ]
  },
  {
   "cell_type": "code",
   "execution_count": 56,
   "metadata": {},
   "outputs": [],
   "source": [
    "# Set Date Range to use for API\n",
    "startDate = '2015-01-01'\n",
    "endDate = '2019-12-31'\n",
    "\n",
    "# Create a list of dates (from Start to End)\n",
    "dateList = pd.date_range(startDate, endDate).strftime(\"%Y-%m-%d\").tolist()\n",
    "# print(dateList)\n",
    "\n",
    "# Create empty list to append dates within a given range to in for loop\n",
    "datesToUseList = []\n",
    "\n",
    "# Loop through dateList and append only dates that are within the range of days (of month) to the datesToUseList\n",
    "for date in dateList:\n",
    "    day = (datetime.datetime.strptime(date, \"%Y-%m-%d\")).day\n",
    "    if day in range(1,8):\n",
    "        datesToUseList.append(date)\n",
    "#         print(f\"KEEP: {date} is in range\")\n",
    "    else:\n",
    "#         print(f\"REMOVE: {date} is OUT OF RANGE\")\n",
    "        pass\n",
    "\n",
    "# print(datesToUseList)\n",
    "# len(datesToUseList)"
   ]
  },
  {
   "cell_type": "markdown",
   "metadata": {},
   "source": [
    "#### Set API URL and API key variables to pass through in the API request"
   ]
  },
  {
   "cell_type": "code",
   "execution_count": null,
   "metadata": {},
   "outputs": [],
   "source": [
    "# search_by = \"latLong\" #latLong or zipCode\n",
    "# search_period = \"historical\" # current or historical\n",
    "# search_format = \"application/json\"\n",
    "# lat = \"\" # latitude\n",
    "# lat = \"32.7767\" # latitude\n",
    "# lng = \"\" # longitude\n",
    "# lng = \"-96.7970\" # longitude\n",
    "# zip_code = \"\"\n",
    "# zip_code = \"75201\"\n",
    "# obs_date = \"\" # observation date\n",
    "# obs_date = \"2020-04-06\" # observation date\n",
    "# obs_time = \"\" # observation time\n",
    "# obs_time = \"00-0000\" # observation time\n",
    "# distance = \"\" # in miles\n",
    "# distance = \"25\" # in miles"
   ]
  },
  {
   "cell_type": "markdown",
   "metadata": {},
   "source": [
    "#### Setup API Call Function and Parameters"
   ]
  },
  {
   "cell_type": "code",
   "execution_count": 81,
   "metadata": {},
   "outputs": [],
   "source": [
    "# def apiCallLatLongHistorical(lat, lng, obsDate, obsTime, apiKey):\n",
    "    \n",
    "# API Parameters\n",
    "lat = \"\"\n",
    "lng = \"\"\n",
    "obsDate = \"\"\n",
    "obsTime = \"\"\n",
    "apiKey = \"\"\n",
    "options = {}\n",
    "# options[\"baseURL\"] = \"http://www.airnowapi.org/aq/observation/\"\n",
    "options[\"baseURL\"] = \"http://www.airnowapi.org/aq/observation/latLong/historical/?format=application/json\"\n",
    "# options[\"searchBy\"] = \"latLong\"\n",
    "# options[\"searchPeriod\"] = \"historical\"\n",
    "# options[\"searchFormat\"] = \"application/json\"\n",
    "options[\"lat\"] = \"\"\n",
    "options[\"lat\"] = lat\n",
    "options[\"lat\"] = \"32.7767\"\n",
    "options[\"long\"] = \"\"\n",
    "options[\"long\"] = lng\n",
    "options[\"long\"] = \"-96.7970\"\n",
    "options[\"obsDate\"] = \"\"\n",
    "options[\"obsDate\"] = obsDate\n",
    "options[\"obsDate\"] = \"2020-04-08\"\n",
    "options[\"obsTime\"] = \"\"\n",
    "options[\"obsTime\"] = obsTime\n",
    "options[\"obsTime\"] = \"00-0000\"\n",
    "options[\"searchDistance\"] = \"25\"\n",
    "options[\"apiKey\"] = \"\"\n",
    "options[\"apiKey\"] = apiKey\n",
    "options[\"apiKey\"] = airNowApiKeyShane\n",
    "\n",
    "# Build API Requst URL\n",
    "# requestURL = f'{options[\"baseURL\"]}{options[\"searchBy\"]}/{options[\"searchPeriod\"]}/?format={options[\"searchFormat\"]}&latitude={options[\"lat\"]}&longitude={options[\"long\"]}&date={options[\"obsDate\"]}T{options[\"obsTime\"]}&distance={options[\"searchDistance\"]}&API_KEY={options[\"apiKey\"]}'\n",
    "requestURL = f'{options[\"baseURL\"]}&latitude={options[\"lat\"]}&longitude={options[\"long\"]}&date={options[\"obsDate\"]}T{options[\"obsTime\"]}&distance={options[\"searchDistance\"]}&API_KEY={options[\"apiKey\"]}'\n",
    "\n",
    "\n",
    "# Build API Requst URL\n",
    "# requestURL2 = options[\"baseURL\"] \\\n",
    "#             + options[\"searchBy\"] \\\n",
    "#             + \"/\" + options[\"searchPeriod\"] \\\n",
    "#             + \"/?format=\" + options[\"searchFormat\"] \\\n",
    "#             + \"&latitude=\" + options[\"lat\"] \\\n",
    "#             + \"&longitude=\" + options[\"long\"] \\\n",
    "#             + \"&date=\" + options[\"obsDate\"] \\\n",
    "#             + \"T\" + options[\"obsTime\"] \\\n",
    "#             + \"&distance=\" + options[\"searchDistance\"] \\\n",
    "#             + \"&API_KEY=\" + options[\"apiKey\"]\n",
    "\n",
    "requestURL2 = options[\"baseURL\"] \\\n",
    "            + \"&latitude=\" + options[\"lat\"] \\\n",
    "            + \"&longitude=\" + options[\"long\"] \\\n",
    "            + \"&date=\" + options[\"obsDate\"] \\\n",
    "            + \"T\" + options[\"obsTime\"] \\\n",
    "            + \"&distance=\" + options[\"searchDistance\"] \\\n",
    "            + \"&API_KEY=\" + options[\"apiKey\"]\n",
    "\n",
    "try:\n",
    "    print(\"--------------------------------------------------\")\n",
    "    print(f\"Requesting AirNow API Data for LAT: {options['lat']}, LONG: {options['long']}, DATE: {options['obsDate']} & TIME: {options['obsTime']}...\")\n",
    "    print(\"--------------------------------------------------\")\n",
    "    "
   ]
  },
  {
   "cell_type": "code",
   "execution_count": 83,
   "metadata": {},
   "outputs": [
    {
     "data": {
      "text/plain": [
       "'http://www.airnowapi.org/aq/observation/latLong/historical/?format=application/json&latitude=32.7767&longitude=-96.7970&date=2020-04-08T00-0000&distance=25&API_KEY=B243AE67-E5A9-403C-A8B6-7458D5B46B86'"
      ]
     },
     "execution_count": 83,
     "metadata": {},
     "output_type": "execute_result"
    }
   ],
   "source": [
    "requestURL"
   ]
  },
  {
   "cell_type": "code",
   "execution_count": 84,
   "metadata": {},
   "outputs": [
    {
     "data": {
      "text/plain": [
       "'http://www.airnowapi.org/aq/observation/latLong/historical/?format=application/json&latitude=32.7767&longitude=-96.7970&date=2020-04-08T00-0000&distance=25&API_KEY=B243AE67-E5A9-403C-A8B6-7458D5B46B86'"
      ]
     },
     "execution_count": 84,
     "metadata": {},
     "output_type": "execute_result"
    }
   ],
   "source": [
    "requestURL2"
   ]
  },
  {
   "cell_type": "code",
   "execution_count": null,
   "metadata": {},
   "outputs": [],
   "source": [
    "requestURL2 = f\"{options['url']}\""
   ]
  },
  {
   "cell_type": "code",
   "execution_count": null,
   "metadata": {},
   "outputs": [],
   "source": [
    "requestURL2"
   ]
  },
  {
   "cell_type": "code",
   "execution_count": null,
   "metadata": {},
   "outputs": [],
   "source": [
    "api_key = airNowApiKeyShane\n",
    "# print(apiKey)\n",
    "\n",
    "# url = 'http://www.airnowapi.org'\n",
    "# print (url)\n",
    "\n",
    "obs_base_url = \"http://www.airnowapi.org/aq/observation/\"\n",
    "# print (obs_base_url)\n"
   ]
  },
  {
   "cell_type": "code",
   "execution_count": null,
   "metadata": {},
   "outputs": [],
   "source": [
    "built_url = f\"{obs_base_url}{search_by}/{search_period}/?format={search_format}&latitude={lat}&longitude={lng}&date={obs_date}T{obs_time}&distance={distance}&API_KEY={api_key}\"\n",
    "# built_url = f\"{obs_base_url}{search_by}/{search_period}/?format={search_format}&latitude={lat}&longitude={lng}&date={obs_date}&distance={distance}&API_KEY={api_key}\""
   ]
  },
  {
   "cell_type": "code",
   "execution_count": null,
   "metadata": {},
   "outputs": [],
   "source": [
    "print(built_url)"
   ]
  },
  {
   "cell_type": "code",
   "execution_count": null,
   "metadata": {},
   "outputs": [],
   "source": []
  },
  {
   "cell_type": "code",
   "execution_count": null,
   "metadata": {},
   "outputs": [],
   "source": [
    "# response = requests.get(built_url, params=params, headers=headers_1).json()\n",
    "response = rq.get(built_url).json()"
   ]
  },
  {
   "cell_type": "code",
   "execution_count": null,
   "metadata": {},
   "outputs": [],
   "source": [
    "response"
   ]
  },
  {
   "cell_type": "code",
   "execution_count": null,
   "metadata": {},
   "outputs": [],
   "source": []
  },
  {
   "cell_type": "code",
   "execution_count": null,
   "metadata": {},
   "outputs": [],
   "source": []
  },
  {
   "cell_type": "code",
   "execution_count": null,
   "metadata": {},
   "outputs": [],
   "source": []
  },
  {
   "cell_type": "code",
   "execution_count": null,
   "metadata": {},
   "outputs": [],
   "source": []
  },
  {
   "cell_type": "code",
   "execution_count": null,
   "metadata": {},
   "outputs": [],
   "source": []
  },
  {
   "cell_type": "code",
   "execution_count": null,
   "metadata": {},
   "outputs": [],
   "source": [
    "# from state_capitals import state_capitals"
   ]
  },
  {
   "cell_type": "code",
   "execution_count": null,
   "metadata": {},
   "outputs": [],
   "source": [
    "\n",
    "# start_date = '2020-01-01'\n",
    "# end_date = '2020-04-30'\n",
    "# date_list = pd.date_range(start_date, end_date).tolist()"
   ]
  },
  {
   "cell_type": "code",
   "execution_count": null,
   "metadata": {},
   "outputs": [],
   "source": [
    "# date_list"
   ]
  },
  {
   "cell_type": "code",
   "execution_count": null,
   "metadata": {},
   "outputs": [],
   "source": [
    "# import datetime\n",
    "# real_date1 = datetime.date(*[int(x) for x in start_date.split('-')])\n",
    "# real_date2 = datetime.date(*[int(x) for x in end_date.split('-')])\n",
    "# date_range =  real_date2 - real_date1\n",
    "# dates = list()\n",
    "# for days in range(date_range.days):\n",
    "#     dates.append(real_date1 + datetime.timedelta(days))\n",
    "\n",
    "# print (dates)"
   ]
  },
  {
   "cell_type": "code",
   "execution_count": null,
   "metadata": {},
   "outputs": [],
   "source": [
    "# # import pandas as pd\n",
    "# date1 = '2011-05-03'\n",
    "# date2 = '2011-05-10'\n",
    "# date_list2 = pd.date_range(start = date1,end = date2)\n",
    "# date_list2"
   ]
  },
  {
   "cell_type": "code",
   "execution_count": null,
   "metadata": {},
   "outputs": [],
   "source": [
    "# print(date_list2[0])"
   ]
  },
  {
   "cell_type": "code",
   "execution_count": null,
   "metadata": {},
   "outputs": [],
   "source": [
    "# import datetime\n",
    "# now = datetime.datetime.now()\n",
    "# print(\"Time start right now :\",now.strftime(\"%d-%m-%Y %H:%M:%S\"))\n",
    "# print(\"Time start right now :\",now.strftime(\"%d-%m-%Y\"))\n",
    "# print(\"Time start right now :\",now.strftime(\"%Y-%m-%d\"))\n",
    "\n"
   ]
  },
  {
   "cell_type": "code",
   "execution_count": null,
   "metadata": {},
   "outputs": [],
   "source": [
    "start_date = '2020-01-01'\n",
    "end_date = '2020-04-30'\n",
    "date_list = pd.date_range(start_date, end_date).strftime(\"%Y-%m-%d\").tolist()\n",
    "date_list"
   ]
  },
  {
   "cell_type": "code",
   "execution_count": null,
   "metadata": {},
   "outputs": [],
   "source": []
  }
 ],
 "metadata": {
  "kernelspec": {
   "display_name": "Python 3",
   "language": "python",
   "name": "python3"
  },
  "language_info": {
   "codemirror_mode": {
    "name": "ipython",
    "version": 3
   },
   "file_extension": ".py",
   "mimetype": "text/x-python",
   "name": "python",
   "nbconvert_exporter": "python",
   "pygments_lexer": "ipython3",
   "version": "3.7.4"
  }
 },
 "nbformat": 4,
 "nbformat_minor": 4
}
