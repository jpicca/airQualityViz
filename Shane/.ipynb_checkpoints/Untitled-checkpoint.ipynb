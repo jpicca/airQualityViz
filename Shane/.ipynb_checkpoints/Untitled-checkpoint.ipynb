{
 "cells": [
  {
   "cell_type": "code",
   "execution_count": 8,
   "metadata": {},
   "outputs": [],
   "source": [
    "import pandas as pd\n",
    "import requests\n",
    "\n",
    "import os\n",
    "import sys\n",
    "from datetime import datetime\n",
    "from os.path import expanduser\n",
    "import urllib"
   ]
  },
  {
   "cell_type": "code",
   "execution_count": 9,
   "metadata": {},
   "outputs": [],
   "source": [
    "output_data_filepath = \"output_data/\""
   ]
  },
  {
   "cell_type": "code",
   "execution_count": 22,
   "metadata": {},
   "outputs": [],
   "source": [
    "def main():\n",
    "\n",
    "    # API parameters\n",
    "    options = {}\n",
    "    options[\"url\"] = \"https://airnowapi.org/aq/data/\"\n",
    "    options[\"start_date\"] = \"2020-04-01\"\n",
    "    options[\"start_hour_utc\"] = \"22\"\n",
    "    options[\"end_date\"] = \"2020-04-07\"\n",
    "    options[\"end_hour_utc\"] = \"23\"\n",
    "    options[\"parameters\"] = \"o3,pm25,pm10,co,no2,so2\"\n",
    "#     options[\"bbox\"] = \"-90.806632,24.634217,-71.119132,45.910790\"\n",
    "    options[\"bbox\"] = \"-95.7970,31.7767,-97.7970,33.7767\"\n",
    "#     lat = \"\" # latitude\n",
    "#     lat = \"32.7767\" # latitude\n",
    "#     lng = \"\" # longitude\n",
    "#     lng = \"-96.7970\" # longitude\n",
    "    options[\"data_type\"] = \"b\"\n",
    "    options[\"format\"] = \"application/json\"\n",
    "#     options[\"ext\"] = \"kml\"\n",
    "    options[\"api_key\"] = \"B243AE67-E5A9-403C-A8B6-7458D5B46B86\"\n",
    "\n",
    "# API request URL\n",
    "    REQUEST_URL = options[\"url\"] \\\n",
    "                  + \"?startdate=\" + options[\"start_date\"] \\\n",
    "                  + \"t\" + options[\"start_hour_utc\"] \\\n",
    "                  + \"&enddate=\" + options[\"end_date\"] \\\n",
    "                  + \"t\" + options[\"end_hour_utc\"] \\\n",
    "                  + \"&parameters=\" + options[\"parameters\"] \\\n",
    "                  + \"&bbox=\" + options[\"bbox\"] \\\n",
    "                  + \"&datatype=\" + options[\"data_type\"] \\\n",
    "                  + \"&format=\" + options[\"format\"] \\\n",
    "                  + \"&api_key=\" + options[\"api_key\"]\n",
    "\n",
    "    try:\n",
    "        # Request AirNowAPI data\n",
    "        print(\"Requesting AirNowAPI data...\")\n",
    "\n",
    "        # User's home directory.\n",
    "#         home_dir = expanduser(\"~\")\n",
    "#         download_file_name = \"AirNowAPI\" + datetime.now().strftime(\"_%Y%M%d%H%M%S.\" + options[\"ext\"])\n",
    "#         download_file = os.path.join(home_dir, download_file_name)\n",
    "#         download_file = os.path.join(output_data_filepath, download_file_name)\n",
    "\n",
    "        # Perform the AirNow API data request\n",
    "#         api_data = urllib.URLopener()\n",
    "#         api_data.retrieve(REQUEST_URL, download_file)\n",
    "        \n",
    "        response = requests.get(REQUEST_URL).json()\n",
    "\n",
    "        # Download complete\n",
    "#         print(\"Download URL: %s\" % REQUEST_URL)\n",
    "#         print(\"Download File: %s\" % download_file)\n",
    "\n",
    "    except Exception as e:\n",
    "        print(\"Unable perform AirNowAPI request. %s\" % e)\n",
    "#         sys.exit(1)\n",
    "\n",
    "# if __name__ == \"__main__\":\n",
    "#     main()"
   ]
  },
  {
   "cell_type": "code",
   "execution_count": 23,
   "metadata": {},
   "outputs": [
    {
     "name": "stdout",
     "output_type": "stream",
     "text": [
      "Requesting AirNowAPI data...\n"
     ]
    }
   ],
   "source": [
    "main()"
   ]
  },
  {
   "cell_type": "code",
   "execution_count": 24,
   "metadata": {},
   "outputs": [
    {
     "ename": "NameError",
     "evalue": "name 'response' is not defined",
     "output_type": "error",
     "traceback": [
      "\u001b[0;31m---------------------------------------------------------------------------\u001b[0m",
      "\u001b[0;31mNameError\u001b[0m                                 Traceback (most recent call last)",
      "\u001b[0;32m<ipython-input-24-ab0153f39f33>\u001b[0m in \u001b[0;36m<module>\u001b[0;34m\u001b[0m\n\u001b[0;32m----> 1\u001b[0;31m \u001b[0mresponse\u001b[0m\u001b[0;34m\u001b[0m\u001b[0;34m\u001b[0m\u001b[0m\n\u001b[0m",
      "\u001b[0;31mNameError\u001b[0m: name 'response' is not defined"
     ]
    }
   ],
   "source": [
    "response"
   ]
  },
  {
   "cell_type": "code",
   "execution_count": 25,
   "metadata": {},
   "outputs": [
    {
     "ename": "NameError",
     "evalue": "name 'REQUEST_URL' is not defined",
     "output_type": "error",
     "traceback": [
      "\u001b[0;31m---------------------------------------------------------------------------\u001b[0m",
      "\u001b[0;31mNameError\u001b[0m                                 Traceback (most recent call last)",
      "\u001b[0;32m<ipython-input-25-6bec730e5a4a>\u001b[0m in \u001b[0;36m<module>\u001b[0;34m\u001b[0m\n\u001b[0;32m----> 1\u001b[0;31m \u001b[0mREQUEST_URL\u001b[0m\u001b[0;34m\u001b[0m\u001b[0;34m\u001b[0m\u001b[0m\n\u001b[0m",
      "\u001b[0;31mNameError\u001b[0m: name 'REQUEST_URL' is not defined"
     ]
    }
   ],
   "source": [
    "REQUEST_URL"
   ]
  },
  {
   "cell_type": "code",
   "execution_count": null,
   "metadata": {},
   "outputs": [],
   "source": []
  },
  {
   "cell_type": "code",
   "execution_count": null,
   "metadata": {},
   "outputs": [],
   "source": []
  },
  {
   "cell_type": "code",
   "execution_count": 26,
   "metadata": {},
   "outputs": [],
   "source": [
    "# API parameters\n",
    "options = {}\n",
    "options[\"url\"] = \"http://www.airnowapi.org/aq/data/\"\n",
    "options[\"start_date\"] = \"2020-04-01\"\n",
    "options[\"start_hour_utc\"] = \"22\"\n",
    "options[\"end_date\"] = \"2020-04-07\"\n",
    "options[\"end_hour_utc\"] = \"23\"\n",
    "options[\"parameters\"] = \"o3,pm25,pm10,co,no2,so2\"\n",
    "#     options[\"bbox\"] = \"-90.806632,24.634217,-71.119132,45.910790\"\n",
    "options[\"bbox\"] = \"-95.7970,31.7767,-97.7970,33.7767\"\n",
    "#     lat = \"\" # latitude\n",
    "#     lat = \"32.7767\" # latitude\n",
    "#     lng = \"\" # longitude\n",
    "#     lng = \"-96.7970\" # longitude\n",
    "options[\"data_type\"] = \"b\"\n",
    "options[\"format\"] = \"application/json\"\n",
    "#     options[\"ext\"] = \"kml\"\n",
    "options[\"api_key\"] = \"B243AE67-E5A9-403C-A8B6-7458D5B46B86\"\n",
    "\n",
    "# API request URL\n",
    "REQUEST_URL = options[\"url\"] \\\n",
    "              + \"?startdate=\" + options[\"start_date\"] \\\n",
    "              + \"t\" + options[\"start_hour_utc\"] \\\n",
    "              + \"&enddate=\" + options[\"end_date\"] \\\n",
    "              + \"t\" + options[\"end_hour_utc\"] \\\n",
    "              + \"&parameters=\" + options[\"parameters\"] \\\n",
    "              + \"&bbox=\" + options[\"bbox\"] \\\n",
    "              + \"&datatype=\" + options[\"data_type\"] \\\n",
    "              + \"&format=\" + options[\"format\"] \\\n",
    "              + \"&api_key=\" + options[\"api_key\"]"
   ]
  },
  {
   "cell_type": "code",
   "execution_count": 28,
   "metadata": {},
   "outputs": [
    {
     "name": "stdout",
     "output_type": "stream",
     "text": [
      "https://airnowapi.org/aq/data/?startdate=2020-04-01t22&enddate=2020-04-07t23&parameters=o3,pm25,pm10,co,no2,so2&bbox=-95.7970,31.7767,-97.7970,33.7767&datatype=b&format=application/json&api_key=B243AE67-E5A9-403C-A8B6-7458D5B46B86\n"
     ]
    }
   ],
   "source": [
    "print(REQUEST_URL)"
   ]
  },
  {
   "cell_type": "code",
   "execution_count": null,
   "metadata": {},
   "outputs": [],
   "source": [
    "\n",
    "http://www.airnowapi.org/aq/data/?startdate=2020-04-01t22&enddate=2020-04-07t23&parameters=o3,pm25,pm10,co,no2,so2&bbox=-95.7970,31.7767,-97.7970,33.7767&datatype=b&format=application/json&api_key=B243AE67-E5A9-403C-A8B6-7458D5B46B86\n",
    "http://www.airnowapi.org/aq/data/?startDate=2020-04-07T00&endDate=2020-04-07T23&parameters=OZONE,PM25,PM10,CO,NO2,SO2&BBOX=-124.205070,28.716781,-75.337882,45.419415&dataType=B&format=application/json&verbose=1&nowcastonly=1&includerawconcentrations=1&API_KEY=B243AE67-E5A9-403C-A8B6-7458D5B46B86"
   ]
  },
  {
   "cell_type": "code",
   "execution_count": null,
   "metadata": {},
   "outputs": [],
   "source": []
  },
  {
   "cell_type": "code",
   "execution_count": 3,
   "metadata": {},
   "outputs": [],
   "source": [
    "# API parameters\n",
    "options = {}\n",
    "options[\"url\"] = \"https://airnowapi.org/aq/data/\"\n",
    "options[\"start_date\"] = \"2020-04-01\"\n",
    "options[\"start_hour_utc\"] = \"22\"\n",
    "options[\"end_date\"] = \"2020-04-07\"\n",
    "options[\"end_hour_utc\"] = \"23\"\n",
    "options[\"parameters\"] = \"o3,pm25,pm10,co,no2,so2\"\n",
    "options[\"bbox\"] = \"-90.806632,24.634217,-71.119132,45.910790\"\n",
    "options[\"data_type\"] = \"b\"\n",
    "options[\"format\"] = \"application/json\"\n",
    "#     options[\"ext\"] = \"kml\"\n",
    "options[\"api_key\"] = \"B243AE67-E5A9-403C-A8B6-7458D5B46B86\"\n"
   ]
  },
  {
   "cell_type": "code",
   "execution_count": 4,
   "metadata": {},
   "outputs": [
    {
     "data": {
      "text/plain": [
       "{'url': 'https://airnowapi.org/aq/data/',\n",
       " 'start_date': '2020-04-01',\n",
       " 'start_hour_utc': '22',\n",
       " 'end_date': '2020-04-07',\n",
       " 'end_hour_utc': '23',\n",
       " 'parameters': 'o3,pm25,pm10,co,no2,so2',\n",
       " 'bbox': '-90.806632,24.634217,-71.119132,45.910790',\n",
       " 'data_type': 'b',\n",
       " 'format': 'application/json',\n",
       " 'api_key': 'B243AE67-E5A9-403C-A8B6-7458D5B46B86'}"
      ]
     },
     "execution_count": 4,
     "metadata": {},
     "output_type": "execute_result"
    }
   ],
   "source": [
    "options"
   ]
  },
  {
   "cell_type": "code",
   "execution_count": null,
   "metadata": {},
   "outputs": [],
   "source": []
  },
  {
   "cell_type": "code",
   "execution_count": null,
   "metadata": {},
   "outputs": [],
   "source": []
  },
  {
   "cell_type": "code",
   "execution_count": null,
   "metadata": {},
   "outputs": [],
   "source": []
  },
  {
   "cell_type": "code",
   "execution_count": null,
   "metadata": {},
   "outputs": [],
   "source": []
  },
  {
   "cell_type": "code",
   "execution_count": null,
   "metadata": {},
   "outputs": [],
   "source": []
  },
  {
   "cell_type": "code",
   "execution_count": null,
   "metadata": {},
   "outputs": [],
   "source": []
  },
  {
   "cell_type": "code",
   "execution_count": null,
   "metadata": {},
   "outputs": [],
   "source": []
  },
  {
   "cell_type": "code",
   "execution_count": 29,
   "metadata": {},
   "outputs": [
    {
     "name": "stdout",
     "output_type": "stream",
     "text": [
      "{\"message\":\"You are not subscribed to this API.\"}\n"
     ]
    }
   ],
   "source": [
    "import requests\n",
    "\n",
    "url = \"https://ip-geo-location.p.rapidapi.com/ip/37.140.128.11\"\n",
    "\n",
    "querystring = {\"format\":\"json\"}\n",
    "\n",
    "headers = {\n",
    "    'x-rapidapi-host': \"ip-geo-location.p.rapidapi.com\",\n",
    "    'x-rapidapi-key': \"ad63ec6231msh56c5e407327f408p19fca1jsn17137e0f488b\"\n",
    "    }\n",
    "\n",
    "response = requests.request(\"GET\", url, headers=headers, params=querystring)\n",
    "\n",
    "print(response.text)"
   ]
  },
  {
   "cell_type": "code",
   "execution_count": null,
   "metadata": {},
   "outputs": [],
   "source": []
  }
 ],
 "metadata": {
  "kernelspec": {
   "display_name": "Python 3",
   "language": "python",
   "name": "python3"
  },
  "language_info": {
   "codemirror_mode": {
    "name": "ipython",
    "version": 3
   },
   "file_extension": ".py",
   "mimetype": "text/x-python",
   "name": "python",
   "nbconvert_exporter": "python",
   "pygments_lexer": "ipython3",
   "version": "3.7.4"
  }
 },
 "nbformat": 4,
 "nbformat_minor": 4
}
